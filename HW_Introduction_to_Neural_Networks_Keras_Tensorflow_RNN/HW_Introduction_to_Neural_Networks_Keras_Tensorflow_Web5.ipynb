{
  "nbformat": 4,
  "nbformat_minor": 0,
  "metadata": {
    "colab": {
      "provenance": []
    },
    "kernelspec": {
      "name": "python3",
      "display_name": "Python 3"
    },
    "language_info": {
      "name": "python"
    }
  },
  "cells": [
    {
      "cell_type": "markdown",
      "source": [
        "# Домашнее задание\n",
        "Попробуйте обучить нейронную сеть RNN/LSTM/GRU на любом другом датасете (любимый временной ряд, текст на русском (другом языке) как генератор или классификатор, или прилагаемый набор airline-passengers - пасажиропоток для авиалиний).\n",
        "\n",
        "Опишите, какой результат вы получили? Что помогло вам улучшить ее точность?"
      ],
      "metadata": {
        "id": "rYP7L0-nF3ad"
      }
    },
    {
      "cell_type": "code",
      "execution_count": 196,
      "metadata": {
        "colab": {
          "base_uri": "https://localhost:8080/"
        },
        "id": "A5MH-QWNFG5N",
        "outputId": "99eeb3f2-ca6d-4811-a7eb-a095f8ce9abf"
      },
      "outputs": [
        {
          "output_type": "stream",
          "name": "stdout",
          "text": [
            "--2023-09-06 12:50:27--  https://drive.google.com/uc?export=download&id=1xwXieDVy1RKdfiJ6am_nNWp6XhAYdhNb\n",
            "Resolving drive.google.com (drive.google.com)... 172.253.123.139, 172.253.123.102, 172.253.123.138, ...\n",
            "Connecting to drive.google.com (drive.google.com)|172.253.123.139|:443... connected.\n",
            "HTTP request sent, awaiting response... 303 See Other\n",
            "Location: https://doc-08-c0-docs.googleusercontent.com/docs/securesc/ha0ro937gcuc7l7deffksulhg5h7mbp1/93vjhkbkha8lutvg8r5t2dts9rsj6uhk/1694004600000/14904333240138417226/*/1xwXieDVy1RKdfiJ6am_nNWp6XhAYdhNb?e=download&uuid=fd01f576-7fe1-4c8c-a000-c384c347a5e4 [following]\n",
            "Warning: wildcards not supported in HTTP.\n",
            "--2023-09-06 12:50:27--  https://doc-08-c0-docs.googleusercontent.com/docs/securesc/ha0ro937gcuc7l7deffksulhg5h7mbp1/93vjhkbkha8lutvg8r5t2dts9rsj6uhk/1694004600000/14904333240138417226/*/1xwXieDVy1RKdfiJ6am_nNWp6XhAYdhNb?e=download&uuid=fd01f576-7fe1-4c8c-a000-c384c347a5e4\n",
            "Resolving doc-08-c0-docs.googleusercontent.com (doc-08-c0-docs.googleusercontent.com)... 142.250.97.132, 2607:f8b0:400c:c18::84\n",
            "Connecting to doc-08-c0-docs.googleusercontent.com (doc-08-c0-docs.googleusercontent.com)|142.250.97.132|:443... connected.\n",
            "HTTP request sent, awaiting response... 200 OK\n",
            "Length: 2037 (2.0K) [text/csv]\n",
            "Saving to: ‘airline-passengers.csv’\n",
            "\n",
            "airline-passengers. 100%[===================>]   1.99K  --.-KB/s    in 0s      \n",
            "\n",
            "2023-09-06 12:50:27 (86.3 MB/s) - ‘airline-passengers.csv’ saved [2037/2037]\n",
            "\n"
          ]
        }
      ],
      "source": [
        "!wget 'https://drive.google.com/uc?export=download&id=1xwXieDVy1RKdfiJ6am_nNWp6XhAYdhNb' -O airline-passengers.csv"
      ]
    },
    {
      "cell_type": "code",
      "source": [
        "import numpy as np\n",
        "import pandas as pd\n",
        "import matplotlib.pyplot as plt\n",
        "import tensorflow as tf"
      ],
      "metadata": {
        "id": "h5GgRUxJGIHa"
      },
      "execution_count": 197,
      "outputs": []
    },
    {
      "cell_type": "code",
      "source": [
        "df = pd.read_csv('/content/airline-passengers.csv')"
      ],
      "metadata": {
        "id": "RVXEa5QDGDm8"
      },
      "execution_count": 198,
      "outputs": []
    },
    {
      "cell_type": "code",
      "source": [
        "df"
      ],
      "metadata": {
        "colab": {
          "base_uri": "https://localhost:8080/",
          "height": 423
        },
        "id": "1w39e3H5KqT8",
        "outputId": "7c16253a-0108-48ee-c2d0-61df50c0b445"
      },
      "execution_count": 199,
      "outputs": [
        {
          "output_type": "execute_result",
          "data": {
            "text/plain": [
              "       Month  Passengers\n",
              "0    1949-01         112\n",
              "1    1949-02         118\n",
              "2    1949-03         132\n",
              "3    1949-04         129\n",
              "4    1949-05         121\n",
              "..       ...         ...\n",
              "139  1960-08         606\n",
              "140  1960-09         508\n",
              "141  1960-10         461\n",
              "142  1960-11         390\n",
              "143  1960-12         432\n",
              "\n",
              "[144 rows x 2 columns]"
            ],
            "text/html": [
              "\n",
              "  <div id=\"df-f5d17818-65fe-4714-b2b7-c263ae6af061\" class=\"colab-df-container\">\n",
              "    <div>\n",
              "<style scoped>\n",
              "    .dataframe tbody tr th:only-of-type {\n",
              "        vertical-align: middle;\n",
              "    }\n",
              "\n",
              "    .dataframe tbody tr th {\n",
              "        vertical-align: top;\n",
              "    }\n",
              "\n",
              "    .dataframe thead th {\n",
              "        text-align: right;\n",
              "    }\n",
              "</style>\n",
              "<table border=\"1\" class=\"dataframe\">\n",
              "  <thead>\n",
              "    <tr style=\"text-align: right;\">\n",
              "      <th></th>\n",
              "      <th>Month</th>\n",
              "      <th>Passengers</th>\n",
              "    </tr>\n",
              "  </thead>\n",
              "  <tbody>\n",
              "    <tr>\n",
              "      <th>0</th>\n",
              "      <td>1949-01</td>\n",
              "      <td>112</td>\n",
              "    </tr>\n",
              "    <tr>\n",
              "      <th>1</th>\n",
              "      <td>1949-02</td>\n",
              "      <td>118</td>\n",
              "    </tr>\n",
              "    <tr>\n",
              "      <th>2</th>\n",
              "      <td>1949-03</td>\n",
              "      <td>132</td>\n",
              "    </tr>\n",
              "    <tr>\n",
              "      <th>3</th>\n",
              "      <td>1949-04</td>\n",
              "      <td>129</td>\n",
              "    </tr>\n",
              "    <tr>\n",
              "      <th>4</th>\n",
              "      <td>1949-05</td>\n",
              "      <td>121</td>\n",
              "    </tr>\n",
              "    <tr>\n",
              "      <th>...</th>\n",
              "      <td>...</td>\n",
              "      <td>...</td>\n",
              "    </tr>\n",
              "    <tr>\n",
              "      <th>139</th>\n",
              "      <td>1960-08</td>\n",
              "      <td>606</td>\n",
              "    </tr>\n",
              "    <tr>\n",
              "      <th>140</th>\n",
              "      <td>1960-09</td>\n",
              "      <td>508</td>\n",
              "    </tr>\n",
              "    <tr>\n",
              "      <th>141</th>\n",
              "      <td>1960-10</td>\n",
              "      <td>461</td>\n",
              "    </tr>\n",
              "    <tr>\n",
              "      <th>142</th>\n",
              "      <td>1960-11</td>\n",
              "      <td>390</td>\n",
              "    </tr>\n",
              "    <tr>\n",
              "      <th>143</th>\n",
              "      <td>1960-12</td>\n",
              "      <td>432</td>\n",
              "    </tr>\n",
              "  </tbody>\n",
              "</table>\n",
              "<p>144 rows × 2 columns</p>\n",
              "</div>\n",
              "    <div class=\"colab-df-buttons\">\n",
              "\n",
              "  <div class=\"colab-df-container\">\n",
              "    <button class=\"colab-df-convert\" onclick=\"convertToInteractive('df-f5d17818-65fe-4714-b2b7-c263ae6af061')\"\n",
              "            title=\"Convert this dataframe to an interactive table.\"\n",
              "            style=\"display:none;\">\n",
              "\n",
              "  <svg xmlns=\"http://www.w3.org/2000/svg\" height=\"24px\" viewBox=\"0 -960 960 960\">\n",
              "    <path d=\"M120-120v-720h720v720H120Zm60-500h600v-160H180v160Zm220 220h160v-160H400v160Zm0 220h160v-160H400v160ZM180-400h160v-160H180v160Zm440 0h160v-160H620v160ZM180-180h160v-160H180v160Zm440 0h160v-160H620v160Z\"/>\n",
              "  </svg>\n",
              "    </button>\n",
              "\n",
              "  <style>\n",
              "    .colab-df-container {\n",
              "      display:flex;\n",
              "      gap: 12px;\n",
              "    }\n",
              "\n",
              "    .colab-df-convert {\n",
              "      background-color: #E8F0FE;\n",
              "      border: none;\n",
              "      border-radius: 50%;\n",
              "      cursor: pointer;\n",
              "      display: none;\n",
              "      fill: #1967D2;\n",
              "      height: 32px;\n",
              "      padding: 0 0 0 0;\n",
              "      width: 32px;\n",
              "    }\n",
              "\n",
              "    .colab-df-convert:hover {\n",
              "      background-color: #E2EBFA;\n",
              "      box-shadow: 0px 1px 2px rgba(60, 64, 67, 0.3), 0px 1px 3px 1px rgba(60, 64, 67, 0.15);\n",
              "      fill: #174EA6;\n",
              "    }\n",
              "\n",
              "    .colab-df-buttons div {\n",
              "      margin-bottom: 4px;\n",
              "    }\n",
              "\n",
              "    [theme=dark] .colab-df-convert {\n",
              "      background-color: #3B4455;\n",
              "      fill: #D2E3FC;\n",
              "    }\n",
              "\n",
              "    [theme=dark] .colab-df-convert:hover {\n",
              "      background-color: #434B5C;\n",
              "      box-shadow: 0px 1px 3px 1px rgba(0, 0, 0, 0.15);\n",
              "      filter: drop-shadow(0px 1px 2px rgba(0, 0, 0, 0.3));\n",
              "      fill: #FFFFFF;\n",
              "    }\n",
              "  </style>\n",
              "\n",
              "    <script>\n",
              "      const buttonEl =\n",
              "        document.querySelector('#df-f5d17818-65fe-4714-b2b7-c263ae6af061 button.colab-df-convert');\n",
              "      buttonEl.style.display =\n",
              "        google.colab.kernel.accessAllowed ? 'block' : 'none';\n",
              "\n",
              "      async function convertToInteractive(key) {\n",
              "        const element = document.querySelector('#df-f5d17818-65fe-4714-b2b7-c263ae6af061');\n",
              "        const dataTable =\n",
              "          await google.colab.kernel.invokeFunction('convertToInteractive',\n",
              "                                                    [key], {});\n",
              "        if (!dataTable) return;\n",
              "\n",
              "        const docLinkHtml = 'Like what you see? Visit the ' +\n",
              "          '<a target=\"_blank\" href=https://colab.research.google.com/notebooks/data_table.ipynb>data table notebook</a>'\n",
              "          + ' to learn more about interactive tables.';\n",
              "        element.innerHTML = '';\n",
              "        dataTable['output_type'] = 'display_data';\n",
              "        await google.colab.output.renderOutput(dataTable, element);\n",
              "        const docLink = document.createElement('div');\n",
              "        docLink.innerHTML = docLinkHtml;\n",
              "        element.appendChild(docLink);\n",
              "      }\n",
              "    </script>\n",
              "  </div>\n",
              "\n",
              "\n",
              "<div id=\"df-6de95d30-aad9-4c99-aea5-e22c85e5be00\">\n",
              "  <button class=\"colab-df-quickchart\" onclick=\"quickchart('df-6de95d30-aad9-4c99-aea5-e22c85e5be00')\"\n",
              "            title=\"Suggest charts.\"\n",
              "            style=\"display:none;\">\n",
              "\n",
              "<svg xmlns=\"http://www.w3.org/2000/svg\" height=\"24px\"viewBox=\"0 0 24 24\"\n",
              "     width=\"24px\">\n",
              "    <g>\n",
              "        <path d=\"M19 3H5c-1.1 0-2 .9-2 2v14c0 1.1.9 2 2 2h14c1.1 0 2-.9 2-2V5c0-1.1-.9-2-2-2zM9 17H7v-7h2v7zm4 0h-2V7h2v10zm4 0h-2v-4h2v4z\"/>\n",
              "    </g>\n",
              "</svg>\n",
              "  </button>\n",
              "\n",
              "<style>\n",
              "  .colab-df-quickchart {\n",
              "      --bg-color: #E8F0FE;\n",
              "      --fill-color: #1967D2;\n",
              "      --hover-bg-color: #E2EBFA;\n",
              "      --hover-fill-color: #174EA6;\n",
              "      --disabled-fill-color: #AAA;\n",
              "      --disabled-bg-color: #DDD;\n",
              "  }\n",
              "\n",
              "  [theme=dark] .colab-df-quickchart {\n",
              "      --bg-color: #3B4455;\n",
              "      --fill-color: #D2E3FC;\n",
              "      --hover-bg-color: #434B5C;\n",
              "      --hover-fill-color: #FFFFFF;\n",
              "      --disabled-bg-color: #3B4455;\n",
              "      --disabled-fill-color: #666;\n",
              "  }\n",
              "\n",
              "  .colab-df-quickchart {\n",
              "    background-color: var(--bg-color);\n",
              "    border: none;\n",
              "    border-radius: 50%;\n",
              "    cursor: pointer;\n",
              "    display: none;\n",
              "    fill: var(--fill-color);\n",
              "    height: 32px;\n",
              "    padding: 0;\n",
              "    width: 32px;\n",
              "  }\n",
              "\n",
              "  .colab-df-quickchart:hover {\n",
              "    background-color: var(--hover-bg-color);\n",
              "    box-shadow: 0 1px 2px rgba(60, 64, 67, 0.3), 0 1px 3px 1px rgba(60, 64, 67, 0.15);\n",
              "    fill: var(--button-hover-fill-color);\n",
              "  }\n",
              "\n",
              "  .colab-df-quickchart-complete:disabled,\n",
              "  .colab-df-quickchart-complete:disabled:hover {\n",
              "    background-color: var(--disabled-bg-color);\n",
              "    fill: var(--disabled-fill-color);\n",
              "    box-shadow: none;\n",
              "  }\n",
              "\n",
              "  .colab-df-spinner {\n",
              "    border: 2px solid var(--fill-color);\n",
              "    border-color: transparent;\n",
              "    border-bottom-color: var(--fill-color);\n",
              "    animation:\n",
              "      spin 1s steps(1) infinite;\n",
              "  }\n",
              "\n",
              "  @keyframes spin {\n",
              "    0% {\n",
              "      border-color: transparent;\n",
              "      border-bottom-color: var(--fill-color);\n",
              "      border-left-color: var(--fill-color);\n",
              "    }\n",
              "    20% {\n",
              "      border-color: transparent;\n",
              "      border-left-color: var(--fill-color);\n",
              "      border-top-color: var(--fill-color);\n",
              "    }\n",
              "    30% {\n",
              "      border-color: transparent;\n",
              "      border-left-color: var(--fill-color);\n",
              "      border-top-color: var(--fill-color);\n",
              "      border-right-color: var(--fill-color);\n",
              "    }\n",
              "    40% {\n",
              "      border-color: transparent;\n",
              "      border-right-color: var(--fill-color);\n",
              "      border-top-color: var(--fill-color);\n",
              "    }\n",
              "    60% {\n",
              "      border-color: transparent;\n",
              "      border-right-color: var(--fill-color);\n",
              "    }\n",
              "    80% {\n",
              "      border-color: transparent;\n",
              "      border-right-color: var(--fill-color);\n",
              "      border-bottom-color: var(--fill-color);\n",
              "    }\n",
              "    90% {\n",
              "      border-color: transparent;\n",
              "      border-bottom-color: var(--fill-color);\n",
              "    }\n",
              "  }\n",
              "</style>\n",
              "\n",
              "  <script>\n",
              "    async function quickchart(key) {\n",
              "      const quickchartButtonEl =\n",
              "        document.querySelector('#' + key + ' button');\n",
              "      quickchartButtonEl.disabled = true;  // To prevent multiple clicks.\n",
              "      quickchartButtonEl.classList.add('colab-df-spinner');\n",
              "      try {\n",
              "        const charts = await google.colab.kernel.invokeFunction(\n",
              "            'suggestCharts', [key], {});\n",
              "      } catch (error) {\n",
              "        console.error('Error during call to suggestCharts:', error);\n",
              "      }\n",
              "      quickchartButtonEl.classList.remove('colab-df-spinner');\n",
              "      quickchartButtonEl.classList.add('colab-df-quickchart-complete');\n",
              "    }\n",
              "    (() => {\n",
              "      let quickchartButtonEl =\n",
              "        document.querySelector('#df-6de95d30-aad9-4c99-aea5-e22c85e5be00 button');\n",
              "      quickchartButtonEl.style.display =\n",
              "        google.colab.kernel.accessAllowed ? 'block' : 'none';\n",
              "    })();\n",
              "  </script>\n",
              "</div>\n",
              "    </div>\n",
              "  </div>\n"
            ]
          },
          "metadata": {},
          "execution_count": 199
        }
      ]
    },
    {
      "cell_type": "code",
      "source": [
        "plt.plot(df.index, df['Passengers'])\n",
        "plt.title('кол-во пассажиров')"
      ],
      "metadata": {
        "colab": {
          "base_uri": "https://localhost:8080/",
          "height": 469
        },
        "id": "zazPuZe7GG4j",
        "outputId": "cd2b86ab-bb24-460b-c91b-0fbc578a110d"
      },
      "execution_count": 200,
      "outputs": [
        {
          "output_type": "execute_result",
          "data": {
            "text/plain": [
              "Text(0.5, 1.0, 'кол-во пассажиров')"
            ]
          },
          "metadata": {},
          "execution_count": 200
        },
        {
          "output_type": "display_data",
          "data": {
            "text/plain": [
              "<Figure size 640x480 with 1 Axes>"
            ],
            "image/png": "[encoded data removed]"
          },
          "metadata": {}
        }
      ]
    },
    {
      "cell_type": "code",
      "source": [
        "df['Month'] = pd.to_datetime(df['Month'])"
      ],
      "metadata": {
        "id": "IWdLo10iuf4y"
      },
      "execution_count": 201,
      "outputs": []
    },
    {
      "cell_type": "code",
      "source": [
        "df['year'] = df.Month.dt.year\n",
        "df['month'] = df.Month.dt.month\n",
        "df.drop('Month', axis=1, inplace=True)"
      ],
      "metadata": {
        "id": "WmcZjE8fuYq8"
      },
      "execution_count": 202,
      "outputs": []
    },
    {
      "cell_type": "code",
      "source": [
        "# разобъем на train and test\n",
        "\n",
        "train_size = 105\n",
        "bias = 7\n",
        "train = df[:train_size]\n",
        "test = df[train_size + bias:]"
      ],
      "metadata": {
        "id": "FeoDTRUyapLA"
      },
      "execution_count": 203,
      "outputs": []
    },
    {
      "cell_type": "code",
      "source": [
        "from sklearn.preprocessing import StandardScaler\n",
        "\n",
        "scaler = StandardScaler()\n",
        "train[['month', 'year']] = scaler.fit_transform(train[['month', 'year']])\n",
        "test[['month', 'year']] = scaler.transform(test[['month', 'year']])"
      ],
      "metadata": {
        "colab": {
          "base_uri": "https://localhost:8080/"
        },
        "id": "3kXQvbwNpkPZ",
        "outputId": "41429982-3096-4516-ca8f-4d4453cef862"
      },
      "execution_count": 204,
      "outputs": [
        {
          "output_type": "stream",
          "name": "stderr",
          "text": [
            "<ipython-input-204-4b94afe7f198>:4: SettingWithCopyWarning: \n",
            "A value is trying to be set on a copy of a slice from a DataFrame.\n",
            "Try using .loc[row_indexer,col_indexer] = value instead\n",
            "\n",
            "See the caveats in the documentation: https://pandas.pydata.org/pandas-docs/stable/user_guide/indexing.html#returning-a-view-versus-a-copy\n",
            "  train[['month', 'year']] = scaler.fit_transform(train[['month', 'year']])\n",
            "<ipython-input-204-4b94afe7f198>:5: SettingWithCopyWarning: \n",
            "A value is trying to be set on a copy of a slice from a DataFrame.\n",
            "Try using .loc[row_indexer,col_indexer] = value instead\n",
            "\n",
            "See the caveats in the documentation: https://pandas.pydata.org/pandas-docs/stable/user_guide/indexing.html#returning-a-view-versus-a-copy\n",
            "  test[['month', 'year']] = scaler.transform(test[['month', 'year']])\n"
          ]
        }
      ]
    },
    {
      "cell_type": "code",
      "source": [
        "train.shape, test.shape"
      ],
      "metadata": {
        "colab": {
          "base_uri": "https://localhost:8080/"
        },
        "id": "m5dIHkqg24xb",
        "outputId": "bd093712-1bd7-41ff-9f66-2314f80e4243"
      },
      "execution_count": 205,
      "outputs": [
        {
          "output_type": "execute_result",
          "data": {
            "text/plain": [
              "((105, 3), (32, 3))"
            ]
          },
          "metadata": {},
          "execution_count": 205
        }
      ]
    },
    {
      "cell_type": "code",
      "source": [
        "# длина истории\n",
        "x_len = 5\n",
        "\n",
        "# горизонт предсказания\n",
        "future = 1\n",
        "\n",
        "# параметры модели\n",
        "learning_rate = 0.01\n",
        "batch_size = 32\n",
        "epochs = 40"
      ],
      "metadata": {
        "id": "jE6kwGtCvvk2"
      },
      "execution_count": 206,
      "outputs": []
    },
    {
      "cell_type": "code",
      "source": [
        "start = x_len + future\n",
        "end = start + train_size\n",
        "\n",
        "print(start, end)"
      ],
      "metadata": {
        "colab": {
          "base_uri": "https://localhost:8080/"
        },
        "id": "YKdzaoR9wXWN",
        "outputId": "1ac33de0-7838-45cc-f6e4-86a4b2f05eb9"
      },
      "execution_count": 207,
      "outputs": [
        {
          "output_type": "stream",
          "name": "stdout",
          "text": [
            "6 111\n"
          ]
        }
      ]
    },
    {
      "cell_type": "code",
      "source": [
        "features = ['month', 'year']\n",
        "target = ['Passengers']"
      ],
      "metadata": {
        "id": "epSyasLn59-n"
      },
      "execution_count": 208,
      "outputs": []
    },
    {
      "cell_type": "code",
      "source": [
        "X_train = train[features].values\n",
        "y_train = df.iloc[start:end][target].values\n",
        "\n",
        "x_end = len(test) - x_len - future\n",
        "label_start = len(train) + bias + x_len + future\n",
        "\n",
        "X_test = test.iloc[:x_end][features].values\n",
        "y_test = df.iloc[label_start:][target].values"
      ],
      "metadata": {
        "id": "alEiba8RwXzR"
      },
      "execution_count": 209,
      "outputs": []
    },
    {
      "cell_type": "code",
      "source": [
        "X_train.shape, y_train.shape, X_test.shape, y_test.shape"
      ],
      "metadata": {
        "colab": {
          "base_uri": "https://localhost:8080/"
        },
        "id": "LkmX1xhY0Uap",
        "outputId": "903a36d5-4e2e-449f-9cd6-bc887ce20fab"
      },
      "execution_count": 210,
      "outputs": [
        {
          "output_type": "execute_result",
          "data": {
            "text/plain": [
              "((105, 2), (105, 1), (26, 2), (26, 1))"
            ]
          },
          "metadata": {},
          "execution_count": 210
        }
      ]
    },
    {
      "cell_type": "code",
      "source": [
        "plt.figure(figsize=(10, 5))\n",
        "plt.plot(df.index[x_len:y_train.shape[0]+x_len],y_train[:])\n",
        "plt.plot(df.index[y_train.shape[0]+x_len+bias+future:],y_test[:])\n",
        "plt.grid('on')\n",
        "plt.xlabel('месяцы')\n",
        "plt.ylabel('людей')\n",
        "plt.title('кол-во пассажиров')\n",
        "plt.show()"
      ],
      "metadata": {
        "colab": {
          "base_uri": "https://localhost:8080/",
          "height": 487
        },
        "id": "bZNCrJ760dHe",
        "outputId": "7717d023-e837-4f4d-c47a-49a1b0e48704"
      },
      "execution_count": 211,
      "outputs": [
        {
          "output_type": "display_data",
          "data": {
            "text/plain": [
              "<Figure size 1000x500 with 1 Axes>"
            ],
            "image/png": "[encoded data removed]"
          },
          "metadata": {}
        }
      ]
    },
    {
      "cell_type": "code",
      "source": [
        "from tensorflow.keras.preprocessing import timeseries_dataset_from_array\n",
        "\n",
        "dataset_train = timeseries_dataset_from_array(\n",
        "    X_train,\n",
        "    y_train,\n",
        "    sequence_length = x_len,\n",
        "    sampling_rate = 1,\n",
        "    batch_size = batch_size\n",
        ")\n",
        "\n",
        "dataset_test = timeseries_dataset_from_array(\n",
        "    X_test,\n",
        "    y_test,\n",
        "    sequence_length = x_len,\n",
        "    sampling_rate = 1,\n",
        "    batch_size = batch_size\n",
        ")"
      ],
      "metadata": {
        "id": "j5z7Aiwn-4uR"
      },
      "execution_count": 212,
      "outputs": []
    },
    {
      "cell_type": "code",
      "source": [
        "for item in dataset_train:\n",
        "  # print(item)\n",
        "  inputs, targets = item\n",
        "  # print(inputs)\n",
        "  print(inputs.shape)\n",
        "  # print(targets)\n",
        "  print(targets.shape)\n",
        "  break"
      ],
      "metadata": {
        "colab": {
          "base_uri": "https://localhost:8080/"
        },
        "id": "XtE0_zxBDnTw",
        "outputId": "6626429a-1758-4a7d-e031-bda11cbf93bd"
      },
      "execution_count": 213,
      "outputs": [
        {
          "output_type": "stream",
          "name": "stdout",
          "text": [
            "(32, 5, 2)\n",
            "(32, 1)\n"
          ]
        }
      ]
    },
    {
      "cell_type": "code",
      "source": [
        "from tensorflow.keras.layers import LSTM, GRU, Dense, Conv1D, Flatten, BatchNormalization\n",
        "from tensorflow.keras.models import Sequential\n",
        "\n",
        "model = Sequential()\n",
        "model.add(LSTM(128, input_shape=(inputs.shape[1], inputs.shape[2]), return_sequences=True))\n",
        "model.add(LSTM(64, return_sequences=True))\n",
        "model.add(Conv1D(128, 3))\n",
        "model.add(Conv1D(64, 1))\n",
        "model.add(Flatten())\n",
        "# model.add(BatchNormalization())\n",
        "model.add(Dense(128))\n",
        "model.add(Dense(64))\n",
        "model.add(Dense(1))"
      ],
      "metadata": {
        "id": "yWWcv_eADotj"
      },
      "execution_count": 241,
      "outputs": []
    },
    {
      "cell_type": "code",
      "source": [
        "from tensorflow.keras.callbacks import ModelCheckpoint"
      ],
      "metadata": {
        "id": "37B5SBLUf9xS"
      },
      "execution_count": 242,
      "outputs": []
    },
    {
      "cell_type": "code",
      "source": [
        "model.compile(\n",
        "    optimizer='Adam',\n",
        "    loss='mse',\n",
        "    metrics='mae'\n",
        ")\n",
        "\n",
        "best_model = ModelCheckpoint(\n",
        "    filepath='best_model_',\n",
        "    monitor='val_mae',\n",
        "    save_weights_only=True,\n",
        "    verbose=1,\n",
        "    save_best_only=True\n",
        ")\n",
        "\n",
        "history = model.fit(\n",
        "    dataset_train,\n",
        "    epochs=150,\n",
        "    validation_data=dataset_test,\n",
        "    callbacks=[best_model]\n",
        ")"
      ],
      "metadata": {
        "colab": {
          "base_uri": "https://localhost:8080/"
        },
        "id": "EsEw9wrVKxh-",
        "outputId": "c6ede301-faa9-4958-ceb3-96711ee4f30e"
      },
      "execution_count": 243,
      "outputs": [
        {
          "output_type": "stream",
          "name": "stdout",
          "text": [
            "Epoch 1/150\n",
            "4/4 [==============================] - ETA: 0s - loss: 62726.6328 - mae: 236.1792 \n",
            "Epoch 1: val_mae improved from inf to 441.28586, saving model to best_model_\n",
            "4/4 [==============================] - 7s 375ms/step - loss: 62726.6328 - mae: 236.1792 - val_loss: 201877.7500 - val_mae: 441.2859\n",
            "Epoch 2/150\n",
            "4/4 [==============================] - ETA: 0s - loss: 62555.4414 - mae: 235.8408\n",
            "Epoch 2: val_mae improved from 441.28586 to 440.54056, saving model to best_model_\n",
            "4/4 [==============================] - 0s 56ms/step - loss: 62555.4414 - mae: 235.8408 - val_loss: 201204.0000 - val_mae: 440.5406\n",
            "Epoch 3/150\n",
            "4/4 [==============================] - ETA: 0s - loss: 62200.6289 - mae: 235.2079\n",
            "Epoch 3: val_mae improved from 440.54056 to 438.27295, saving model to best_model_\n",
            "4/4 [==============================] - 0s 55ms/step - loss: 62200.6289 - mae: 235.2079 - val_loss: 199149.9844 - val_mae: 438.2729\n",
            "Epoch 4/150\n",
            "4/4 [==============================] - ETA: 0s - loss: 61177.1328 - mae: 233.4094\n",
            "Epoch 4: val_mae improved from 438.27295 to 431.16251, saving model to best_model_\n",
            "4/4 [==============================] - 0s 61ms/step - loss: 61177.1328 - mae: 233.4094 - val_loss: 192763.1875 - val_mae: 431.1625\n",
            "Epoch 5/150\n",
            "4/4 [==============================] - ETA: 0s - loss: 58402.2188 - mae: 228.5781\n",
            "Epoch 5: val_mae improved from 431.16251 to 410.11151, saving model to best_model_\n",
            "4/4 [==============================] - 0s 57ms/step - loss: 58402.2188 - mae: 228.5781 - val_loss: 174441.7500 - val_mae: 410.1115\n",
            "Epoch 6/150\n",
            "4/4 [==============================] - ETA: 0s - loss: 51387.5312 - mae: 216.0072\n",
            "Epoch 6: val_mae improved from 410.11151 to 350.24329, saving model to best_model_\n",
            "4/4 [==============================] - 0s 61ms/step - loss: 51387.5312 - mae: 216.0072 - val_loss: 127403.6797 - val_mae: 350.2433\n",
            "Epoch 7/150\n",
            "4/4 [==============================] - ETA: 0s - loss: 35768.8711 - mae: 183.4124\n",
            "Epoch 7: val_mae improved from 350.24329 to 183.24745, saving model to best_model_\n",
            "4/4 [==============================] - 0s 58ms/step - loss: 35768.8711 - mae: 183.4124 - val_loss: 36608.7891 - val_mae: 183.2475\n",
            "Epoch 8/150\n",
            "3/4 [=====================>........] - ETA: 0s - loss: 15514.1016 - mae: 111.4108\n",
            "Epoch 8: val_mae improved from 183.24745 to 105.26989, saving model to best_model_\n",
            "4/4 [==============================] - 0s 63ms/step - loss: 15558.0039 - mae: 112.1909 - val_loss: 16261.6631 - val_mae: 105.2699\n",
            "Epoch 9/150\n",
            "4/4 [==============================] - ETA: 0s - loss: 11803.8340 - mae: 93.1707 \n",
            "Epoch 9: val_mae improved from 105.26989 to 68.01190, saving model to best_model_\n",
            "4/4 [==============================] - 0s 80ms/step - loss: 11803.8340 - mae: 93.1707 - val_loss: 6927.9473 - val_mae: 68.0119\n",
            "Epoch 10/150\n",
            "3/4 [=====================>........] - ETA: 0s - loss: 7429.4390 - mae: 70.6461\n",
            "Epoch 10: val_mae did not improve from 68.01190\n",
            "4/4 [==============================] - 0s 68ms/step - loss: 7159.1201 - mae: 68.9442 - val_loss: 7195.8467 - val_mae: 74.6178\n",
            "Epoch 11/150\n",
            "3/4 [=====================>........] - ETA: 0s - loss: 6458.1562 - mae: 71.8046\n",
            "Epoch 11: val_mae did not improve from 68.01190\n",
            "4/4 [==============================] - 0s 70ms/step - loss: 6435.9800 - mae: 71.4705 - val_loss: 7392.7168 - val_mae: 74.5041\n",
            "Epoch 12/150\n",
            "3/4 [=====================>........] - ETA: 0s - loss: 2654.7063 - mae: 44.2187\n",
            "Epoch 12: val_mae improved from 68.01190 to 42.23174, saving model to best_model_\n",
            "4/4 [==============================] - 0s 92ms/step - loss: 2619.2822 - mae: 44.0339 - val_loss: 2512.1978 - val_mae: 42.2317\n",
            "Epoch 13/150\n",
            "3/4 [=====================>........] - ETA: 0s - loss: 1080.6093 - mae: 26.2391\n",
            "Epoch 13: val_mae did not improve from 42.23174\n",
            "4/4 [==============================] - 0s 71ms/step - loss: 1267.0759 - mae: 27.6317 - val_loss: 5315.5088 - val_mae: 59.6563\n",
            "Epoch 14/150\n",
            "3/4 [=====================>........] - ETA: 0s - loss: 1264.7601 - mae: 29.2501\n",
            "Epoch 14: val_mae did not improve from 42.23174\n",
            "4/4 [==============================] - 0s 73ms/step - loss: 1330.9449 - mae: 29.9696 - val_loss: 3010.0349 - val_mae: 44.7808\n",
            "Epoch 15/150\n",
            "3/4 [=====================>........] - ETA: 0s - loss: 683.3721 - mae: 21.0329\n",
            "Epoch 15: val_mae did not improve from 42.23174\n",
            "4/4 [==============================] - 0s 74ms/step - loss: 875.9088 - mae: 22.7820 - val_loss: 4511.1519 - val_mae: 51.1720\n",
            "Epoch 16/150\n",
            "4/4 [==============================] - ETA: 0s - loss: 807.4825 - mae: 20.3660\n",
            "Epoch 16: val_mae did not improve from 42.23174\n",
            "4/4 [==============================] - 0s 46ms/step - loss: 807.4825 - mae: 20.3660 - val_loss: 3447.6599 - val_mae: 45.6124\n",
            "Epoch 17/150\n",
            "4/4 [==============================] - ETA: 0s - loss: 613.8024 - mae: 18.6003\n",
            "Epoch 17: val_mae did not improve from 42.23174\n",
            "4/4 [==============================] - 0s 49ms/step - loss: 613.8024 - mae: 18.6003 - val_loss: 3199.5608 - val_mae: 46.8824\n",
            "Epoch 18/150\n",
            "4/4 [==============================] - ETA: 0s - loss: 793.3574 - mae: 21.5333\n",
            "Epoch 18: val_mae did not improve from 42.23174\n",
            "4/4 [==============================] - 0s 42ms/step - loss: 793.3574 - mae: 21.5333 - val_loss: 3006.7930 - val_mae: 44.6812\n",
            "Epoch 19/150\n",
            "4/4 [==============================] - ETA: 0s - loss: 569.8832 - mae: 17.8531\n",
            "Epoch 19: val_mae improved from 42.23174 to 41.36595, saving model to best_model_\n",
            "4/4 [==============================] - 0s 62ms/step - loss: 569.8832 - mae: 17.8531 - val_loss: 2568.2476 - val_mae: 41.3659\n",
            "Epoch 20/150\n",
            "3/4 [=====================>........] - ETA: 0s - loss: 514.5461 - mae: 17.2930\n",
            "Epoch 20: val_mae did not improve from 41.36595\n",
            "4/4 [==============================] - 0s 51ms/step - loss: 599.5690 - mae: 18.5893 - val_loss: 2494.8167 - val_mae: 41.4355\n",
            "Epoch 21/150\n",
            "3/4 [=====================>........] - ETA: 0s - loss: 517.9768 - mae: 17.5704\n",
            "Epoch 21: val_mae improved from 41.36595 to 39.41908, saving model to best_model_\n",
            "4/4 [==============================] - 0s 62ms/step - loss: 588.3383 - mae: 18.6069 - val_loss: 2327.3403 - val_mae: 39.4191\n",
            "Epoch 22/150\n",
            "4/4 [==============================] - ETA: 0s - loss: 593.4108 - mae: 18.4359\n",
            "Epoch 22: val_mae improved from 39.41908 to 38.65081, saving model to best_model_\n",
            "4/4 [==============================] - 0s 60ms/step - loss: 593.4108 - mae: 18.4359 - val_loss: 2294.9985 - val_mae: 38.6508\n",
            "Epoch 23/150\n",
            "4/4 [==============================] - ETA: 0s - loss: 570.3968 - mae: 18.1473\n",
            "Epoch 23: val_mae did not improve from 38.65081\n",
            "4/4 [==============================] - 0s 48ms/step - loss: 570.3968 - mae: 18.1473 - val_loss: 2211.6016 - val_mae: 39.3850\n",
            "Epoch 24/150\n",
            "4/4 [==============================] - ETA: 0s - loss: 554.0580 - mae: 17.8933\n",
            "Epoch 24: val_mae did not improve from 38.65081\n",
            "4/4 [==============================] - 0s 49ms/step - loss: 554.0580 - mae: 17.8933 - val_loss: 2219.8687 - val_mae: 39.3645\n",
            "Epoch 25/150\n",
            "4/4 [==============================] - ETA: 0s - loss: 511.6153 - mae: 16.9449\n",
            "Epoch 25: val_mae improved from 38.65081 to 38.06444, saving model to best_model_\n",
            "4/4 [==============================] - 0s 61ms/step - loss: 511.6153 - mae: 16.9449 - val_loss: 2115.1938 - val_mae: 38.0644\n",
            "Epoch 26/150\n",
            "4/4 [==============================] - ETA: 0s - loss: 489.5825 - mae: 16.2949\n",
            "Epoch 26: val_mae improved from 38.06444 to 37.22251, saving model to best_model_\n",
            "4/4 [==============================] - 0s 58ms/step - loss: 489.5825 - mae: 16.2949 - val_loss: 2065.5183 - val_mae: 37.2225\n",
            "Epoch 27/150\n",
            "3/4 [=====================>........] - ETA: 0s - loss: 407.6410 - mae: 14.9788\n",
            "Epoch 27: val_mae improved from 37.22251 to 37.19696, saving model to best_model_\n",
            "4/4 [==============================] - 0s 67ms/step - loss: 471.5686 - mae: 16.0510 - val_loss: 2035.1511 - val_mae: 37.1970\n",
            "Epoch 28/150\n",
            "4/4 [==============================] - ETA: 0s - loss: 452.1622 - mae: 15.6965\n",
            "Epoch 28: val_mae improved from 37.19696 to 36.81222, saving model to best_model_\n",
            "4/4 [==============================] - 0s 58ms/step - loss: 452.1622 - mae: 15.6965 - val_loss: 1988.9368 - val_mae: 36.8122\n",
            "Epoch 29/150\n",
            "4/4 [==============================] - ETA: 0s - loss: 435.3080 - mae: 15.3490\n",
            "Epoch 29: val_mae improved from 36.81222 to 35.74873, saving model to best_model_\n",
            "4/4 [==============================] - 0s 54ms/step - loss: 435.3080 - mae: 15.3490 - val_loss: 1906.7085 - val_mae: 35.7487\n",
            "Epoch 30/150\n",
            "4/4 [==============================] - ETA: 0s - loss: 427.1014 - mae: 15.1896\n",
            "Epoch 30: val_mae improved from 35.74873 to 35.13080, saving model to best_model_\n",
            "4/4 [==============================] - 0s 61ms/step - loss: 427.1014 - mae: 15.1896 - val_loss: 1848.1079 - val_mae: 35.1308\n",
            "Epoch 31/150\n",
            "4/4 [==============================] - ETA: 0s - loss: 419.3958 - mae: 15.0824\n",
            "Epoch 31: val_mae did not improve from 35.13080\n",
            "4/4 [==============================] - 0s 50ms/step - loss: 419.3958 - mae: 15.0824 - val_loss: 1807.8102 - val_mae: 35.1682\n",
            "Epoch 32/150\n",
            "4/4 [==============================] - ETA: 0s - loss: 412.1989 - mae: 15.0299\n",
            "Epoch 32: val_mae improved from 35.13080 to 34.69989, saving model to best_model_\n",
            "4/4 [==============================] - 0s 59ms/step - loss: 412.1989 - mae: 15.0299 - val_loss: 1757.7323 - val_mae: 34.6999\n",
            "Epoch 33/150\n",
            "4/4 [==============================] - ETA: 0s - loss: 402.9243 - mae: 14.8660\n",
            "Epoch 33: val_mae improved from 34.69989 to 33.95860, saving model to best_model_\n",
            "4/4 [==============================] - 0s 61ms/step - loss: 402.9243 - mae: 14.8660 - val_loss: 1701.7216 - val_mae: 33.9586\n",
            "Epoch 34/150\n",
            "4/4 [==============================] - ETA: 0s - loss: 395.2594 - mae: 14.7866\n",
            "Epoch 34: val_mae improved from 33.95860 to 33.59722, saving model to best_model_\n",
            "4/4 [==============================] - 0s 58ms/step - loss: 395.2594 - mae: 14.7866 - val_loss: 1661.8519 - val_mae: 33.5972\n",
            "Epoch 35/150\n",
            "3/4 [=====================>........] - ETA: 0s - loss: 344.1976 - mae: 13.9732\n",
            "Epoch 35: val_mae improved from 33.59722 to 33.25749, saving model to best_model_\n",
            "4/4 [==============================] - 0s 64ms/step - loss: 388.0305 - mae: 14.7807 - val_loss: 1626.6891 - val_mae: 33.2575\n",
            "Epoch 36/150\n",
            "3/4 [=====================>........] - ETA: 0s - loss: 337.9078 - mae: 13.9166\n",
            "Epoch 36: val_mae improved from 33.25749 to 32.59392, saving model to best_model_\n",
            "4/4 [==============================] - 0s 63ms/step - loss: 379.7015 - mae: 14.6868 - val_loss: 1579.3292 - val_mae: 32.5939\n",
            "Epoch 37/150\n",
            "4/4 [==============================] - ETA: 0s - loss: 372.3823 - mae: 14.6105\n",
            "Epoch 37: val_mae improved from 32.59392 to 31.98464, saving model to best_model_\n",
            "4/4 [==============================] - 0s 58ms/step - loss: 372.3823 - mae: 14.6105 - val_loss: 1536.3235 - val_mae: 31.9846\n",
            "Epoch 38/150\n",
            "4/4 [==============================] - ETA: 0s - loss: 367.0177 - mae: 14.5889\n",
            "Epoch 38: val_mae improved from 31.98464 to 31.54830, saving model to best_model_\n",
            "4/4 [==============================] - 0s 64ms/step - loss: 367.0177 - mae: 14.5889 - val_loss: 1502.4304 - val_mae: 31.5483\n",
            "Epoch 39/150\n",
            "4/4 [==============================] - ETA: 0s - loss: 361.8735 - mae: 14.5548\n",
            "Epoch 39: val_mae improved from 31.54830 to 30.99174, saving model to best_model_\n",
            "4/4 [==============================] - 0s 60ms/step - loss: 361.8735 - mae: 14.5548 - val_loss: 1464.9517 - val_mae: 30.9917\n",
            "Epoch 40/150\n",
            "4/4 [==============================] - ETA: 0s - loss: 356.6264 - mae: 14.4956\n",
            "Epoch 40: val_mae improved from 30.99174 to 30.36889, saving model to best_model_\n",
            "4/4 [==============================] - 0s 62ms/step - loss: 356.6264 - mae: 14.4956 - val_loss: 1425.8715 - val_mae: 30.3689\n",
            "Epoch 41/150\n",
            "4/4 [==============================] - ETA: 0s - loss: 352.3192 - mae: 14.4754\n",
            "Epoch 41: val_mae improved from 30.36889 to 29.95468, saving model to best_model_\n",
            "4/4 [==============================] - 0s 56ms/step - loss: 352.3192 - mae: 14.4754 - val_loss: 1392.5161 - val_mae: 29.9547\n",
            "Epoch 42/150\n",
            "3/4 [=====================>........] - ETA: 0s - loss: 318.1161 - mae: 13.9197\n",
            "Epoch 42: val_mae improved from 29.95468 to 29.50688, saving model to best_model_\n",
            "4/4 [==============================] - 0s 65ms/step - loss: 348.2703 - mae: 14.4803 - val_loss: 1358.8680 - val_mae: 29.5069\n",
            "Epoch 43/150\n",
            "3/4 [=====================>........] - ETA: 0s - loss: 315.1318 - mae: 13.9211\n",
            "Epoch 43: val_mae improved from 29.50688 to 28.94511, saving model to best_model_\n",
            "4/4 [==============================] - 0s 59ms/step - loss: 343.7769 - mae: 14.4490 - val_loss: 1322.1108 - val_mae: 28.9451\n",
            "Epoch 44/150\n",
            "4/4 [==============================] - ETA: 0s - loss: 339.6120 - mae: 14.4074\n",
            "Epoch 44: val_mae improved from 28.94511 to 28.44035, saving model to best_model_\n",
            "4/4 [==============================] - 0s 60ms/step - loss: 339.6120 - mae: 14.4074 - val_loss: 1287.6315 - val_mae: 28.4404\n",
            "Epoch 45/150\n",
            "4/4 [==============================] - ETA: 0s - loss: 335.7929 - mae: 14.3705\n",
            "Epoch 45: val_mae improved from 28.44035 to 28.02276, saving model to best_model_\n",
            "4/4 [==============================] - 0s 54ms/step - loss: 335.7929 - mae: 14.3705 - val_loss: 1254.0908 - val_mae: 28.0228\n",
            "Epoch 46/150\n",
            "3/4 [=====================>........] - ETA: 0s - loss: 307.0995 - mae: 13.8765\n",
            "Epoch 46: val_mae improved from 28.02276 to 27.58396, saving model to best_model_\n",
            "4/4 [==============================] - 0s 69ms/step - loss: 331.8073 - mae: 14.3272 - val_loss: 1218.8738 - val_mae: 27.5840\n",
            "Epoch 47/150\n",
            "4/4 [==============================] - ETA: 0s - loss: 327.9666 - mae: 14.2824\n",
            "Epoch 47: val_mae improved from 27.58396 to 27.16255, saving model to best_model_\n",
            "4/4 [==============================] - 0s 71ms/step - loss: 327.9666 - mae: 14.2824 - val_loss: 1184.7581 - val_mae: 27.1626\n",
            "Epoch 48/150\n",
            "4/4 [==============================] - ETA: 0s - loss: 324.3557 - mae: 14.2431\n",
            "Epoch 48: val_mae improved from 27.16255 to 26.73655, saving model to best_model_\n",
            "4/4 [==============================] - 0s 60ms/step - loss: 324.3557 - mae: 14.2431 - val_loss: 1151.6907 - val_mae: 26.7365\n",
            "Epoch 49/150\n",
            "4/4 [==============================] - ETA: 0s - loss: 320.7082 - mae: 14.2218\n",
            "Epoch 49: val_mae improved from 26.73655 to 26.26287, saving model to best_model_\n",
            "4/4 [==============================] - 0s 61ms/step - loss: 320.7082 - mae: 14.2218 - val_loss: 1118.1010 - val_mae: 26.2629\n",
            "Epoch 50/150\n",
            "4/4 [==============================] - ETA: 0s - loss: 317.2177 - mae: 14.1975\n",
            "Epoch 50: val_mae improved from 26.26287 to 25.82790, saving model to best_model_\n",
            "4/4 [==============================] - 0s 61ms/step - loss: 317.2177 - mae: 14.1975 - val_loss: 1085.5009 - val_mae: 25.8279\n",
            "Epoch 51/150\n",
            "3/4 [=====================>........] - ETA: 0s - loss: 293.8758 - mae: 13.7800\n",
            "Epoch 51: val_mae improved from 25.82790 to 25.49746, saving model to best_model_\n",
            "4/4 [==============================] - 0s 62ms/step - loss: 313.9893 - mae: 14.1782 - val_loss: 1054.2682 - val_mae: 25.4975\n",
            "Epoch 52/150\n",
            "3/4 [=====================>........] - ETA: 0s - loss: 291.4832 - mae: 13.7647\n",
            "Epoch 52: val_mae improved from 25.49746 to 25.14502, saving model to best_model_\n",
            "4/4 [==============================] - 0s 100ms/step - loss: 310.8981 - mae: 14.1590 - val_loss: 1023.7527 - val_mae: 25.1450\n",
            "Epoch 53/150\n",
            "4/4 [==============================] - ETA: 0s - loss: 308.0299 - mae: 14.1348\n",
            "Epoch 53: val_mae improved from 25.14502 to 24.79250, saving model to best_model_\n",
            "4/4 [==============================] - 0s 88ms/step - loss: 308.0299 - mae: 14.1348 - val_loss: 994.7074 - val_mae: 24.7925\n",
            "Epoch 54/150\n",
            "3/4 [=====================>........] - ETA: 0s - loss: 287.2144 - mae: 13.7235\n",
            "Epoch 54: val_mae improved from 24.79250 to 24.44367, saving model to best_model_\n",
            "4/4 [==============================] - 0s 79ms/step - loss: 305.3792 - mae: 14.1108 - val_loss: 967.2148 - val_mae: 24.4437\n",
            "Epoch 55/150\n",
            "3/4 [=====================>........] - ETA: 0s - loss: 285.2333 - mae: 13.7036\n",
            "Epoch 55: val_mae improved from 24.44367 to 24.08562, saving model to best_model_\n",
            "4/4 [==============================] - 0s 99ms/step - loss: 302.8461 - mae: 14.0878 - val_loss: 940.9481 - val_mae: 24.0856\n",
            "Epoch 56/150\n",
            "3/4 [=====================>........] - ETA: 0s - loss: 283.3589 - mae: 13.6857\n",
            "Epoch 56: val_mae improved from 24.08562 to 23.73324, saving model to best_model_\n",
            "4/4 [==============================] - 0s 109ms/step - loss: 300.4631 - mae: 14.0668 - val_loss: 916.2631 - val_mae: 23.7332\n",
            "Epoch 57/150\n",
            "3/4 [=====================>........] - ETA: 0s - loss: 281.5708 - mae: 13.6629\n",
            "Epoch 57: val_mae improved from 23.73324 to 23.38879, saving model to best_model_\n",
            "4/4 [==============================] - 0s 94ms/step - loss: 298.2059 - mae: 14.0412 - val_loss: 893.1597 - val_mae: 23.3888\n",
            "Epoch 58/150\n",
            "4/4 [==============================] - ETA: 0s - loss: 296.0302 - mae: 14.0102\n",
            "Epoch 58: val_mae improved from 23.38879 to 23.12168, saving model to best_model_\n",
            "4/4 [==============================] - 0s 56ms/step - loss: 296.0302 - mae: 14.0102 - val_loss: 871.5410 - val_mae: 23.1217\n",
            "Epoch 59/150\n",
            "4/4 [==============================] - ETA: 0s - loss: 293.9479 - mae: 13.9752\n",
            "Epoch 59: val_mae improved from 23.12168 to 22.89722, saving model to best_model_\n",
            "4/4 [==============================] - 0s 60ms/step - loss: 293.9479 - mae: 13.9752 - val_loss: 851.5125 - val_mae: 22.8972\n",
            "Epoch 60/150\n",
            "4/4 [==============================] - ETA: 0s - loss: 291.9158 - mae: 13.9369\n",
            "Epoch 60: val_mae improved from 22.89722 to 22.67912, saving model to best_model_\n",
            "4/4 [==============================] - 0s 61ms/step - loss: 291.9158 - mae: 13.9369 - val_loss: 832.9471 - val_mae: 22.6791\n",
            "Epoch 61/150\n",
            "4/4 [==============================] - ETA: 0s - loss: 289.8986 - mae: 13.8949\n",
            "Epoch 61: val_mae improved from 22.67912 to 22.48765, saving model to best_model_\n",
            "4/4 [==============================] - 0s 58ms/step - loss: 289.8986 - mae: 13.8949 - val_loss: 815.7474 - val_mae: 22.4877\n",
            "Epoch 62/150\n",
            "4/4 [==============================] - ETA: 0s - loss: 287.8887 - mae: 13.8563\n",
            "Epoch 62: val_mae improved from 22.48765 to 22.31497, saving model to best_model_\n",
            "4/4 [==============================] - 0s 58ms/step - loss: 287.8887 - mae: 13.8563 - val_loss: 799.8558 - val_mae: 22.3150\n",
            "Epoch 63/150\n",
            "4/4 [==============================] - ETA: 0s - loss: 285.8563 - mae: 13.8199\n",
            "Epoch 63: val_mae improved from 22.31497 to 22.14619, saving model to best_model_\n",
            "4/4 [==============================] - 0s 60ms/step - loss: 285.8563 - mae: 13.8199 - val_loss: 785.1664 - val_mae: 22.1462\n",
            "Epoch 64/150\n",
            "4/4 [==============================] - ETA: 0s - loss: 283.7996 - mae: 13.7832\n",
            "Epoch 64: val_mae improved from 22.14619 to 21.98176, saving model to best_model_\n",
            "4/4 [==============================] - 0s 58ms/step - loss: 283.7996 - mae: 13.7832 - val_loss: 771.6070 - val_mae: 21.9818\n",
            "Epoch 65/150\n",
            "4/4 [==============================] - ETA: 0s - loss: 281.7204 - mae: 13.7431\n",
            "Epoch 65: val_mae improved from 21.98176 to 21.83990, saving model to best_model_\n",
            "4/4 [==============================] - 0s 61ms/step - loss: 281.7204 - mae: 13.7431 - val_loss: 759.0906 - val_mae: 21.8399\n",
            "Epoch 66/150\n",
            "4/4 [==============================] - ETA: 0s - loss: 279.6104 - mae: 13.6996\n",
            "Epoch 66: val_mae improved from 21.83990 to 21.71470, saving model to best_model_\n",
            "4/4 [==============================] - 0s 62ms/step - loss: 279.6104 - mae: 13.6996 - val_loss: 747.5323 - val_mae: 21.7147\n",
            "Epoch 67/150\n",
            "3/4 [=====================>........] - ETA: 0s - loss: 263.8687 - mae: 13.2881\n",
            "Epoch 67: val_mae improved from 21.71470 to 21.59395, saving model to best_model_\n",
            "4/4 [==============================] - 0s 65ms/step - loss: 277.4768 - mae: 13.6530 - val_loss: 736.8447 - val_mae: 21.5940\n",
            "Epoch 68/150\n",
            "4/4 [==============================] - ETA: 0s - loss: 275.3196 - mae: 13.6038\n",
            "Epoch 68: val_mae improved from 21.59395 to 21.47724, saving model to best_model_\n",
            "4/4 [==============================] - 0s 59ms/step - loss: 275.3196 - mae: 13.6038 - val_loss: 726.9503 - val_mae: 21.4772\n",
            "Epoch 69/150\n",
            "4/4 [==============================] - ETA: 0s - loss: 273.1427 - mae: 13.5592\n",
            "Epoch 69: val_mae improved from 21.47724 to 21.36420, saving model to best_model_\n",
            "4/4 [==============================] - 0s 58ms/step - loss: 273.1427 - mae: 13.5592 - val_loss: 717.7851 - val_mae: 21.3642\n",
            "Epoch 70/150\n",
            "4/4 [==============================] - ETA: 0s - loss: 270.9563 - mae: 13.5137\n",
            "Epoch 70: val_mae improved from 21.36420 to 21.25460, saving model to best_model_\n",
            "4/4 [==============================] - 0s 63ms/step - loss: 270.9563 - mae: 13.5137 - val_loss: 709.2800 - val_mae: 21.2546\n",
            "Epoch 71/150\n",
            "4/4 [==============================] - ETA: 0s - loss: 268.7648 - mae: 13.4674\n",
            "Epoch 71: val_mae improved from 21.25460 to 21.14811, saving model to best_model_\n",
            "4/4 [==============================] - 0s 60ms/step - loss: 268.7648 - mae: 13.4674 - val_loss: 701.3924 - val_mae: 21.1481\n",
            "Epoch 72/150\n",
            "4/4 [==============================] - ETA: 0s - loss: 266.5779 - mae: 13.4191\n",
            "Epoch 72: val_mae improved from 21.14811 to 21.04448, saving model to best_model_\n",
            "4/4 [==============================] - 0s 57ms/step - loss: 266.5779 - mae: 13.4191 - val_loss: 694.0658 - val_mae: 21.0445\n",
            "Epoch 73/150\n",
            "4/4 [==============================] - ETA: 0s - loss: 264.4011 - mae: 13.3691\n",
            "Epoch 73: val_mae improved from 21.04448 to 20.94345, saving model to best_model_\n",
            "4/4 [==============================] - 0s 59ms/step - loss: 264.4011 - mae: 13.3691 - val_loss: 687.2646 - val_mae: 20.9435\n",
            "Epoch 74/150\n",
            "3/4 [=====================>........] - ETA: 0s - loss: 249.6189 - mae: 12.9550\n",
            "Epoch 74: val_mae improved from 20.94345 to 20.84481, saving model to best_model_\n",
            "4/4 [==============================] - 0s 65ms/step - loss: 262.2390 - mae: 13.3174 - val_loss: 680.9571 - val_mae: 20.8448\n",
            "Epoch 75/150\n",
            "4/4 [==============================] - ETA: 0s - loss: 260.0981 - mae: 13.2644\n",
            "Epoch 75: val_mae improved from 20.84481 to 20.74837, saving model to best_model_\n",
            "4/4 [==============================] - 0s 57ms/step - loss: 260.0981 - mae: 13.2644 - val_loss: 675.1141 - val_mae: 20.7484\n",
            "Epoch 76/150\n",
            "4/4 [==============================] - ETA: 0s - loss: 257.9812 - mae: 13.2110\n",
            "Epoch 76: val_mae improved from 20.74837 to 20.65402, saving model to best_model_\n",
            "4/4 [==============================] - 0s 65ms/step - loss: 257.9812 - mae: 13.2110 - val_loss: 669.7232 - val_mae: 20.6540\n",
            "Epoch 77/150\n",
            "4/4 [==============================] - ETA: 0s - loss: 255.8925 - mae: 13.1602\n",
            "Epoch 77: val_mae improved from 20.65402 to 20.56162, saving model to best_model_\n",
            "4/4 [==============================] - 0s 59ms/step - loss: 255.8925 - mae: 13.1602 - val_loss: 664.7638 - val_mae: 20.5616\n",
            "Epoch 78/150\n",
            "4/4 [==============================] - ETA: 0s - loss: 253.8332 - mae: 13.1084\n",
            "Epoch 78: val_mae improved from 20.56162 to 20.47843, saving model to best_model_\n",
            "4/4 [==============================] - 0s 62ms/step - loss: 253.8332 - mae: 13.1084 - val_loss: 660.2312 - val_mae: 20.4784\n",
            "Epoch 79/150\n",
            "4/4 [==============================] - ETA: 0s - loss: 251.8053 - mae: 13.0625\n",
            "Epoch 79: val_mae improved from 20.47843 to 20.42067, saving model to best_model_\n",
            "4/4 [==============================] - 0s 58ms/step - loss: 251.8053 - mae: 13.0625 - val_loss: 656.1162 - val_mae: 20.4207\n",
            "Epoch 80/150\n",
            "4/4 [==============================] - ETA: 0s - loss: 249.8096 - mae: 13.0193\n",
            "Epoch 80: val_mae improved from 20.42067 to 20.40773, saving model to best_model_\n",
            "4/4 [==============================] - 0s 58ms/step - loss: 249.8096 - mae: 13.0193 - val_loss: 652.4141 - val_mae: 20.4077\n",
            "Epoch 81/150\n",
            "4/4 [==============================] - ETA: 0s - loss: 247.8465 - mae: 12.9750\n",
            "Epoch 81: val_mae did not improve from 20.40773\n",
            "4/4 [==============================] - 0s 50ms/step - loss: 247.8465 - mae: 12.9750 - val_loss: 649.1249 - val_mae: 20.4304\n",
            "Epoch 82/150\n",
            "4/4 [==============================] - ETA: 0s - loss: 245.9164 - mae: 12.9302\n",
            "Epoch 82: val_mae did not improve from 20.40773\n",
            "4/4 [==============================] - 0s 42ms/step - loss: 245.9164 - mae: 12.9302 - val_loss: 646.2439 - val_mae: 20.4534\n",
            "Epoch 83/150\n",
            "4/4 [==============================] - ETA: 0s - loss: 244.0189 - mae: 12.8858\n",
            "Epoch 83: val_mae did not improve from 20.40773\n",
            "4/4 [==============================] - 0s 46ms/step - loss: 244.0189 - mae: 12.8858 - val_loss: 643.7732 - val_mae: 20.4769\n",
            "Epoch 84/150\n",
            "4/4 [==============================] - ETA: 0s - loss: 242.1541 - mae: 12.8412\n",
            "Epoch 84: val_mae did not improve from 20.40773\n",
            "4/4 [==============================] - 0s 44ms/step - loss: 242.1541 - mae: 12.8412 - val_loss: 641.7071 - val_mae: 20.5007\n",
            "Epoch 85/150\n",
            "4/4 [==============================] - ETA: 0s - loss: 240.3214 - mae: 12.8012\n",
            "Epoch 85: val_mae did not improve from 20.40773\n",
            "4/4 [==============================] - 0s 46ms/step - loss: 240.3214 - mae: 12.8012 - val_loss: 640.0463 - val_mae: 20.5249\n",
            "Epoch 86/150\n",
            "3/4 [=====================>........] - ETA: 0s - loss: 227.1970 - mae: 12.4083\n",
            "Epoch 86: val_mae did not improve from 20.40773\n",
            "4/4 [==============================] - 0s 56ms/step - loss: 238.5210 - mae: 12.7609 - val_loss: 638.7828 - val_mae: 20.5492\n",
            "Epoch 87/150\n",
            "3/4 [=====================>........] - ETA: 0s - loss: 225.5330 - mae: 12.3687\n",
            "Epoch 87: val_mae did not improve from 20.40773\n",
            "4/4 [==============================] - 0s 48ms/step - loss: 236.7524 - mae: 12.7199 - val_loss: 637.9134 - val_mae: 20.5738\n",
            "Epoch 88/150\n",
            "4/4 [==============================] - ETA: 0s - loss: 235.0157 - mae: 12.6807\n",
            "Epoch 88: val_mae did not improve from 20.40773\n",
            "4/4 [==============================] - 0s 47ms/step - loss: 235.0157 - mae: 12.6807 - val_loss: 637.4288 - val_mae: 20.6171\n",
            "Epoch 89/150\n",
            "4/4 [==============================] - ETA: 0s - loss: 233.3109 - mae: 12.6423\n",
            "Epoch 89: val_mae did not improve from 20.40773\n",
            "4/4 [==============================] - 0s 48ms/step - loss: 233.3109 - mae: 12.6423 - val_loss: 637.3173 - val_mae: 20.6675\n",
            "Epoch 90/150\n",
            "4/4 [==============================] - ETA: 0s - loss: 231.6379 - mae: 12.6039\n",
            "Epoch 90: val_mae did not improve from 20.40773\n",
            "4/4 [==============================] - 0s 42ms/step - loss: 231.6379 - mae: 12.6039 - val_loss: 637.5690 - val_mae: 20.7172\n",
            "Epoch 91/150\n",
            "4/4 [==============================] - ETA: 0s - loss: 229.9976 - mae: 12.5707\n",
            "Epoch 91: val_mae did not improve from 20.40773\n",
            "4/4 [==============================] - 0s 46ms/step - loss: 229.9976 - mae: 12.5707 - val_loss: 638.1648 - val_mae: 20.7663\n",
            "Epoch 92/150\n",
            "4/4 [==============================] - ETA: 0s - loss: 228.3890 - mae: 12.5373\n",
            "Epoch 92: val_mae did not improve from 20.40773\n",
            "4/4 [==============================] - 0s 45ms/step - loss: 228.3890 - mae: 12.5373 - val_loss: 639.0912 - val_mae: 20.8148\n",
            "Epoch 93/150\n",
            "3/4 [=====================>........] - ETA: 0s - loss: 216.2198 - mae: 12.1629\n",
            "Epoch 93: val_mae did not improve from 20.40773\n",
            "4/4 [==============================] - 0s 74ms/step - loss: 226.8136 - mae: 12.5029 - val_loss: 640.3239 - val_mae: 20.8625\n",
            "Epoch 94/150\n",
            "3/4 [=====================>........] - ETA: 0s - loss: 214.7810 - mae: 12.1299\n",
            "Epoch 94: val_mae did not improve from 20.40773\n",
            "4/4 [==============================] - 0s 68ms/step - loss: 225.2697 - mae: 12.4679 - val_loss: 641.8447 - val_mae: 20.9094\n",
            "Epoch 95/150\n",
            "4/4 [==============================] - ETA: 0s - loss: 223.7602 - mae: 12.4321\n",
            "Epoch 95: val_mae did not improve from 20.40773\n",
            "4/4 [==============================] - 0s 78ms/step - loss: 223.7602 - mae: 12.4321 - val_loss: 643.6241 - val_mae: 20.9554\n",
            "Epoch 96/150\n",
            "2/4 [==============>...............] - ETA: 0s - loss: 177.3535 - mae: 11.0123\n",
            "Epoch 96: val_mae did not improve from 20.40773\n",
            "4/4 [==============================] - 0s 70ms/step - loss: 222.2808 - mae: 12.3956 - val_loss: 645.6429 - val_mae: 21.0004\n",
            "Epoch 97/150\n",
            "4/4 [==============================] - ETA: 0s - loss: 220.8378 - mae: 12.3585\n",
            "Epoch 97: val_mae did not improve from 20.40773\n",
            "4/4 [==============================] - 0s 48ms/step - loss: 220.8378 - mae: 12.3585 - val_loss: 647.8637 - val_mae: 21.0443\n",
            "Epoch 98/150\n",
            "4/4 [==============================] - ETA: 0s - loss: 219.4210 - mae: 12.3250\n",
            "Epoch 98: val_mae did not improve from 20.40773\n",
            "4/4 [==============================] - 0s 47ms/step - loss: 219.4210 - mae: 12.3250 - val_loss: 650.2668 - val_mae: 21.0870\n",
            "Epoch 99/150\n",
            "4/4 [==============================] - ETA: 0s - loss: 218.0457 - mae: 12.2915\n",
            "Epoch 99: val_mae did not improve from 20.40773\n",
            "4/4 [==============================] - 0s 50ms/step - loss: 218.0457 - mae: 12.2915 - val_loss: 652.8153 - val_mae: 21.1285\n",
            "Epoch 100/150\n",
            "4/4 [==============================] - ETA: 0s - loss: 216.6859 - mae: 12.2579\n",
            "Epoch 100: val_mae did not improve from 20.40773\n",
            "4/4 [==============================] - 0s 49ms/step - loss: 216.6859 - mae: 12.2579 - val_loss: 655.4752 - val_mae: 21.1682\n",
            "Epoch 101/150\n",
            "4/4 [==============================] - ETA: 0s - loss: 215.3831 - mae: 12.2230\n",
            "Epoch 101: val_mae did not improve from 20.40773\n",
            "4/4 [==============================] - 0s 45ms/step - loss: 215.3831 - mae: 12.2230 - val_loss: 658.2358 - val_mae: 21.2069\n",
            "Epoch 102/150\n",
            "4/4 [==============================] - ETA: 0s - loss: 214.0656 - mae: 12.1892\n",
            "Epoch 102: val_mae did not improve from 20.40773\n",
            "4/4 [==============================] - 0s 50ms/step - loss: 214.0656 - mae: 12.1892 - val_loss: 661.0012 - val_mae: 21.2424\n",
            "Epoch 103/150\n",
            "4/4 [==============================] - ETA: 0s - loss: 212.8528 - mae: 12.1524\n",
            "Epoch 103: val_mae did not improve from 20.40773\n",
            "4/4 [==============================] - 0s 46ms/step - loss: 212.8528 - mae: 12.1524 - val_loss: 663.9004 - val_mae: 21.2786\n",
            "Epoch 104/150\n",
            "4/4 [==============================] - ETA: 0s - loss: 211.5368 - mae: 12.1196\n",
            "Epoch 104: val_mae did not improve from 20.40773\n",
            "4/4 [==============================] - 0s 51ms/step - loss: 211.5368 - mae: 12.1196 - val_loss: 666.5349 - val_mae: 21.3073\n",
            "Epoch 105/150\n",
            "4/4 [==============================] - ETA: 0s - loss: 210.4790 - mae: 12.0788\n",
            "Epoch 105: val_mae did not improve from 20.40773\n",
            "4/4 [==============================] - 0s 49ms/step - loss: 210.4790 - mae: 12.0788 - val_loss: 669.6654 - val_mae: 21.3443\n",
            "Epoch 106/150\n",
            "4/4 [==============================] - ETA: 0s - loss: 209.0431 - mae: 12.0513\n",
            "Epoch 106: val_mae did not improve from 20.40773\n",
            "4/4 [==============================] - 0s 51ms/step - loss: 209.0431 - mae: 12.0513 - val_loss: 671.5986 - val_mae: 21.3575\n",
            "Epoch 107/150\n",
            "4/4 [==============================] - ETA: 0s - loss: 208.3830 - mae: 12.0008\n",
            "Epoch 107: val_mae did not improve from 20.40773\n",
            "4/4 [==============================] - 0s 49ms/step - loss: 208.3830 - mae: 12.0008 - val_loss: 675.7407 - val_mae: 21.4098\n",
            "Epoch 108/150\n",
            "4/4 [==============================] - ETA: 0s - loss: 206.4752 - mae: 11.9924\n",
            "Epoch 108: val_mae did not improve from 20.40773\n",
            "4/4 [==============================] - 0s 45ms/step - loss: 206.4752 - mae: 11.9924 - val_loss: 675.0136 - val_mae: 21.3759\n",
            "Epoch 109/150\n",
            "4/4 [==============================] - ETA: 0s - loss: 207.2525 - mae: 11.9237\n",
            "Epoch 109: val_mae did not improve from 20.40773\n",
            "4/4 [==============================] - 0s 49ms/step - loss: 207.2525 - mae: 11.9237 - val_loss: 683.6927 - val_mae: 21.5018\n",
            "Epoch 110/150\n",
            "4/4 [==============================] - ETA: 0s - loss: 204.2820 - mae: 11.9699\n",
            "Epoch 110: val_mae did not improve from 20.40773\n",
            "4/4 [==============================] - 0s 45ms/step - loss: 204.2820 - mae: 11.9699 - val_loss: 672.7978 - val_mae: 21.2979\n",
            "Epoch 111/150\n",
            "4/4 [==============================] - ETA: 0s - loss: 212.5725 - mae: 11.8346\n",
            "Epoch 111: val_mae did not improve from 20.40773\n",
            "4/4 [==============================] - 0s 62ms/step - loss: 212.5725 - mae: 11.8346 - val_loss: 699.0588 - val_mae: 21.7787\n",
            "Epoch 112/150\n",
            "3/4 [=====================>........] - ETA: 0s - loss: 200.8991 - mae: 11.7475\n",
            "Epoch 112: val_mae did not improve from 20.40773\n",
            "4/4 [==============================] - 0s 53ms/step - loss: 214.3357 - mae: 12.1009 - val_loss: 653.0164 - val_mae: 20.8839\n",
            "Epoch 113/150\n",
            "4/4 [==============================] - ETA: 0s - loss: 281.3927 - mae: 12.9103\n",
            "Epoch 113: val_mae did not improve from 20.40773\n",
            "4/4 [==============================] - 0s 50ms/step - loss: 281.3927 - mae: 12.9103 - val_loss: 718.2346 - val_mae: 22.2007\n",
            "Epoch 114/150\n",
            "4/4 [==============================] - ETA: 0s - loss: 382.9845 - mae: 15.0743\n",
            "Epoch 114: val_mae improved from 20.40773 to 20.39712, saving model to best_model_\n",
            "4/4 [==============================] - 0s 62ms/step - loss: 382.9845 - mae: 15.0743 - val_loss: 606.7769 - val_mae: 20.3971\n",
            "Epoch 115/150\n",
            "3/4 [=====================>........] - ETA: 0s - loss: 801.9333 - mae: 21.3772\n",
            "Epoch 115: val_mae improved from 20.39712 to 19.28874, saving model to best_model_\n",
            "4/4 [==============================] - 0s 67ms/step - loss: 960.9817 - mae: 23.2414 - val_loss: 562.2669 - val_mae: 19.2887\n",
            "Epoch 116/150\n",
            "3/4 [=====================>........] - ETA: 0s - loss: 1040.9092 - mae: 24.3258\n",
            "Epoch 116: val_mae did not improve from 19.28874\n",
            "4/4 [==============================] - 0s 54ms/step - loss: 1310.6738 - mae: 27.0001 - val_loss: 580.1105 - val_mae: 19.6862\n",
            "Epoch 117/150\n",
            "3/4 [=====================>........] - ETA: 0s - loss: 2509.7722 - mae: 38.2119\n",
            "Epoch 117: val_mae did not improve from 19.28874\n",
            "4/4 [==============================] - 0s 52ms/step - loss: 3214.3528 - mae: 42.5298 - val_loss: 6678.5952 - val_mae: 74.4865\n",
            "Epoch 118/150\n",
            "4/4 [==============================] - ETA: 0s - loss: 477.2856 - mae: 16.8095\n",
            "Epoch 118: val_mae did not improve from 19.28874\n",
            "4/4 [==============================] - 0s 50ms/step - loss: 477.2856 - mae: 16.8095 - val_loss: 3609.8506 - val_mae: 55.9185\n",
            "Epoch 119/150\n",
            "3/4 [=====================>........] - ETA: 0s - loss: 533.6266 - mae: 19.0031\n",
            "Epoch 119: val_mae did not improve from 19.28874\n",
            "4/4 [==============================] - 0s 53ms/step - loss: 537.9528 - mae: 19.0165 - val_loss: 890.8187 - val_mae: 23.6812\n",
            "Epoch 120/150\n",
            "4/4 [==============================] - ETA: 0s - loss: 498.7614 - mae: 16.9374\n",
            "Epoch 120: val_mae did not improve from 19.28874\n",
            "4/4 [==============================] - 0s 48ms/step - loss: 498.7614 - mae: 16.9374 - val_loss: 680.7957 - val_mae: 21.3172\n",
            "Epoch 121/150\n",
            "3/4 [=====================>........] - ETA: 0s - loss: 365.6674 - mae: 14.8979\n",
            "Epoch 121: val_mae did not improve from 19.28874\n",
            "4/4 [==============================] - 0s 51ms/step - loss: 441.1140 - mae: 16.0842 - val_loss: 1092.3331 - val_mae: 26.0369\n",
            "Epoch 122/150\n",
            "4/4 [==============================] - ETA: 0s - loss: 351.9894 - mae: 14.1402\n",
            "Epoch 122: val_mae did not improve from 19.28874\n",
            "4/4 [==============================] - 0s 48ms/step - loss: 351.9894 - mae: 14.1402 - val_loss: 886.2410 - val_mae: 23.9384\n",
            "Epoch 123/150\n",
            "4/4 [==============================] - ETA: 0s - loss: 230.1062 - mae: 12.3274\n",
            "Epoch 123: val_mae did not improve from 19.28874\n",
            "4/4 [==============================] - 0s 49ms/step - loss: 230.1062 - mae: 12.3274 - val_loss: 913.3491 - val_mae: 24.3826\n",
            "Epoch 124/150\n",
            "4/4 [==============================] - ETA: 0s - loss: 269.3933 - mae: 13.0524\n",
            "Epoch 124: val_mae did not improve from 19.28874\n",
            "4/4 [==============================] - 0s 49ms/step - loss: 269.3933 - mae: 13.0524 - val_loss: 605.4057 - val_mae: 20.4609\n",
            "Epoch 125/150\n",
            "4/4 [==============================] - ETA: 0s - loss: 265.3577 - mae: 12.5638\n",
            "Epoch 125: val_mae did not improve from 19.28874\n",
            "4/4 [==============================] - 0s 46ms/step - loss: 265.3577 - mae: 12.5638 - val_loss: 611.3741 - val_mae: 20.5977\n",
            "Epoch 126/150\n",
            "4/4 [==============================] - ETA: 0s - loss: 223.8249 - mae: 12.3183\n",
            "Epoch 126: val_mae did not improve from 19.28874\n",
            "4/4 [==============================] - 0s 46ms/step - loss: 223.8249 - mae: 12.3183 - val_loss: 701.1352 - val_mae: 21.8388\n",
            "Epoch 127/150\n",
            "3/4 [=====================>........] - ETA: 0s - loss: 207.9968 - mae: 11.6021\n",
            "Epoch 127: val_mae did not improve from 19.28874\n",
            "4/4 [==============================] - 0s 50ms/step - loss: 217.9179 - mae: 11.8229 - val_loss: 607.2319 - val_mae: 20.3186\n",
            "Epoch 128/150\n",
            "4/4 [==============================] - ETA: 0s - loss: 208.6465 - mae: 11.8324\n",
            "Epoch 128: val_mae did not improve from 19.28874\n",
            "4/4 [==============================] - 0s 45ms/step - loss: 208.6465 - mae: 11.8324 - val_loss: 611.2712 - val_mae: 20.8323\n",
            "Epoch 129/150\n",
            "4/4 [==============================] - ETA: 0s - loss: 211.3377 - mae: 11.9806\n",
            "Epoch 129: val_mae did not improve from 19.28874\n",
            "4/4 [==============================] - 0s 49ms/step - loss: 211.3377 - mae: 11.9806 - val_loss: 611.9618 - val_mae: 20.8225\n",
            "Epoch 130/150\n",
            "4/4 [==============================] - ETA: 0s - loss: 214.9960 - mae: 11.8716\n",
            "Epoch 130: val_mae did not improve from 19.28874\n",
            "4/4 [==============================] - 0s 48ms/step - loss: 214.9960 - mae: 11.8716 - val_loss: 591.4934 - val_mae: 20.0348\n",
            "Epoch 131/150\n",
            "4/4 [==============================] - ETA: 0s - loss: 205.2266 - mae: 11.9697\n",
            "Epoch 131: val_mae did not improve from 19.28874\n",
            "4/4 [==============================] - 0s 45ms/step - loss: 205.2266 - mae: 11.9697 - val_loss: 634.8375 - val_mae: 21.1955\n",
            "Epoch 132/150\n",
            "4/4 [==============================] - ETA: 0s - loss: 205.9327 - mae: 11.8183\n",
            "Epoch 132: val_mae did not improve from 19.28874\n",
            "4/4 [==============================] - 0s 56ms/step - loss: 205.9327 - mae: 11.8183 - val_loss: 595.1810 - val_mae: 20.3357\n",
            "Epoch 133/150\n",
            "3/4 [=====================>........] - ETA: 0s - loss: 198.1102 - mae: 11.5654\n",
            "Epoch 133: val_mae did not improve from 19.28874\n",
            "4/4 [==============================] - 0s 68ms/step - loss: 203.9400 - mae: 11.7888 - val_loss: 608.3368 - val_mae: 20.7167\n",
            "Epoch 134/150\n",
            "3/4 [=====================>........] - ETA: 0s - loss: 196.6558 - mae: 11.6158\n",
            "Epoch 134: val_mae did not improve from 19.28874\n",
            "4/4 [==============================] - 0s 75ms/step - loss: 202.6672 - mae: 11.8484 - val_loss: 603.8259 - val_mae: 20.6670\n",
            "Epoch 135/150\n",
            "3/4 [=====================>........] - ETA: 0s - loss: 197.2623 - mae: 11.5002\n",
            "Epoch 135: val_mae did not improve from 19.28874\n",
            "4/4 [==============================] - 0s 66ms/step - loss: 203.1441 - mae: 11.7017 - val_loss: 589.2767 - val_mae: 20.4958\n",
            "Epoch 136/150\n",
            "3/4 [=====================>........] - ETA: 0s - loss: 193.2701 - mae: 11.5601\n",
            "Epoch 136: val_mae did not improve from 19.28874\n",
            "4/4 [==============================] - 0s 63ms/step - loss: 199.2944 - mae: 11.7905 - val_loss: 604.8674 - val_mae: 20.7719\n",
            "Epoch 137/150\n",
            "3/4 [=====================>........] - ETA: 0s - loss: 193.2454 - mae: 11.4837\n",
            "Epoch 137: val_mae did not improve from 19.28874\n",
            "4/4 [==============================] - 0s 70ms/step - loss: 198.9908 - mae: 11.6896 - val_loss: 584.4174 - val_mae: 20.5036\n",
            "Epoch 138/150\n",
            "3/4 [=====================>........] - ETA: 0s - loss: 190.9830 - mae: 11.4623\n",
            "Epoch 138: val_mae did not improve from 19.28874\n",
            "4/4 [==============================] - 0s 76ms/step - loss: 196.7061 - mae: 11.6795 - val_loss: 595.5382 - val_mae: 20.6562\n",
            "Epoch 139/150\n",
            "4/4 [==============================] - ETA: 0s - loss: 195.7235 - mae: 11.6531\n",
            "Epoch 139: val_mae did not improve from 19.28874\n",
            "4/4 [==============================] - 0s 90ms/step - loss: 195.7235 - mae: 11.6531 - val_loss: 588.5723 - val_mae: 20.5908\n",
            "Epoch 140/150\n",
            "4/4 [==============================] - ETA: 0s - loss: 194.8140 - mae: 11.5814\n",
            "Epoch 140: val_mae did not improve from 19.28874\n",
            "4/4 [==============================] - 0s 51ms/step - loss: 194.8140 - mae: 11.5814 - val_loss: 587.0473 - val_mae: 20.5835\n",
            "Epoch 141/150\n",
            "4/4 [==============================] - ETA: 0s - loss: 193.1954 - mae: 11.5889\n",
            "Epoch 141: val_mae did not improve from 19.28874\n",
            "4/4 [==============================] - 0s 48ms/step - loss: 193.1954 - mae: 11.5889 - val_loss: 591.9256 - val_mae: 20.6417\n",
            "Epoch 142/150\n",
            "4/4 [==============================] - ETA: 0s - loss: 192.5687 - mae: 11.5199\n",
            "Epoch 142: val_mae did not improve from 19.28874\n",
            "4/4 [==============================] - 0s 50ms/step - loss: 192.5687 - mae: 11.5199 - val_loss: 584.8096 - val_mae: 20.5773\n",
            "Epoch 143/150\n",
            "4/4 [==============================] - ETA: 0s - loss: 191.0561 - mae: 11.5124\n",
            "Epoch 143: val_mae did not improve from 19.28874\n",
            "4/4 [==============================] - 0s 45ms/step - loss: 191.0561 - mae: 11.5124 - val_loss: 592.0884 - val_mae: 20.6564\n",
            "Epoch 144/150\n",
            "3/4 [=====================>........] - ETA: 0s - loss: 184.9701 - mae: 11.2631\n",
            "Epoch 144: val_mae did not improve from 19.28874\n",
            "4/4 [==============================] - 0s 49ms/step - loss: 190.3421 - mae: 11.4646 - val_loss: 587.1707 - val_mae: 20.6176\n",
            "Epoch 145/150\n",
            "3/4 [=====================>........] - ETA: 0s - loss: 183.9241 - mae: 11.2335\n",
            "Epoch 145: val_mae did not improve from 19.28874\n",
            "4/4 [==============================] - 0s 48ms/step - loss: 189.2317 - mae: 11.4349 - val_loss: 591.0302 - val_mae: 20.6594\n",
            "Epoch 146/150\n",
            "4/4 [==============================] - ETA: 0s - loss: 188.3211 - mae: 11.4099\n",
            "Epoch 146: val_mae did not improve from 19.28874\n",
            "4/4 [==============================] - 0s 47ms/step - loss: 188.3211 - mae: 11.4099 - val_loss: 590.2147 - val_mae: 20.6568\n",
            "Epoch 147/150\n",
            "4/4 [==============================] - ETA: 0s - loss: 187.4783 - mae: 11.3737\n",
            "Epoch 147: val_mae did not improve from 19.28874\n",
            "4/4 [==============================] - 0s 45ms/step - loss: 187.4783 - mae: 11.3737 - val_loss: 590.2784 - val_mae: 20.6599\n",
            "Epoch 148/150\n",
            "2/4 [==============>...............] - ETA: 0s - loss: 155.3392 - mae: 10.2606\n",
            "Epoch 148: val_mae did not improve from 19.28874\n",
            "4/4 [==============================] - 0s 59ms/step - loss: 186.4849 - mae: 11.3553 - val_loss: 591.8983 - val_mae: 20.6754\n",
            "Epoch 149/150\n",
            "4/4 [==============================] - ETA: 0s - loss: 185.7475 - mae: 11.3173\n",
            "Epoch 149: val_mae did not improve from 19.28874\n",
            "4/4 [==============================] - 0s 49ms/step - loss: 185.7475 - mae: 11.3173 - val_loss: 590.2321 - val_mae: 20.6605\n",
            "Epoch 150/150\n",
            "4/4 [==============================] - ETA: 0s - loss: 184.7818 - mae: 11.2956\n",
            "Epoch 150: val_mae did not improve from 19.28874\n",
            "4/4 [==============================] - 0s 48ms/step - loss: 184.7818 - mae: 11.2956 - val_loss: 592.2687 - val_mae: 20.6744\n"
          ]
        }
      ]
    },
    {
      "cell_type": "code",
      "source": [
        "model.load_weights('best_model_')\n",
        "model.evaluate(dataset_test)"
      ],
      "metadata": {
        "colab": {
          "base_uri": "https://localhost:8080/"
        },
        "id": "PEAyo4Vug13n",
        "outputId": "e97a4381-3512-43fe-b1df-764b97d5fd09"
      },
      "execution_count": 244,
      "outputs": [
        {
          "output_type": "stream",
          "name": "stdout",
          "text": [
            "1/1 [==============================] - 0s 80ms/step - loss: 562.2669 - mae: 19.2887\n"
          ]
        },
        {
          "output_type": "execute_result",
          "data": {
            "text/plain": [
              "[562.2669067382812, 19.28874397277832]"
            ]
          },
          "metadata": {},
          "execution_count": 244
        }
      ]
    },
    {
      "cell_type": "code",
      "source": [
        "prediction = model.predict(dataset_train)\n",
        "pred_test = model.predict(dataset_test)"
      ],
      "metadata": {
        "colab": {
          "base_uri": "https://localhost:8080/"
        },
        "id": "nP0PDdK3L2t8",
        "outputId": "4e3e53b8-d362-42f4-d315-b730da48efb9"
      },
      "execution_count": 245,
      "outputs": [
        {
          "output_type": "stream",
          "name": "stdout",
          "text": [
            "4/4 [==============================] - 1s 9ms/step\n",
            "1/1 [==============================] - 0s 67ms/step\n"
          ]
        }
      ]
    },
    {
      "cell_type": "code",
      "source": [
        "plt.plot(prediction, label='прогноз модели')\n",
        "plt.plot(y_train, label='исходные данные')\n",
        "plt.legend()\n",
        "plt.show()"
      ],
      "metadata": {
        "colab": {
          "base_uri": "https://localhost:8080/",
          "height": 430
        },
        "id": "8zzxyDhZdRVJ",
        "outputId": "e807b894-48ea-4fbc-bd4b-b8caa1b19413"
      },
      "execution_count": 246,
      "outputs": [
        {
          "output_type": "display_data",
          "data": {
            "text/plain": [
              "<Figure size 640x480 with 1 Axes>"
            ],
            "image/png": "[encoded data removed]"
          },
          "metadata": {}
        }
      ]
    },
    {
      "cell_type": "code",
      "source": [
        "plt.plot(pred_test, label='прогноз на тесте')\n",
        "plt.plot(y_test, label='исходные данные')\n",
        "plt.legend()\n",
        "plt.show()"
      ],
      "metadata": {
        "colab": {
          "base_uri": "https://localhost:8080/",
          "height": 430
        },
        "id": "SjatXWNSdw6t",
        "outputId": "2547feb7-f0ec-44c9-ec2a-fc26c571ff95"
      },
      "execution_count": 248,
      "outputs": [
        {
          "output_type": "display_data",
          "data": {
            "text/plain": [
              "<Figure size 640x480 with 1 Axes>"
            ],
            "image/png": "[encoded data removed]"
          },
          "metadata": {}
        }
      ]
    },
    {
      "cell_type": "code",
      "source": [],
      "metadata": {
        "id": "A5HNMIMjehxT"
      },
      "execution_count": 227,
      "outputs": []
    }
  ]
}